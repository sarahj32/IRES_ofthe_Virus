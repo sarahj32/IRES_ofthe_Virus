{
 "cells": [
  {
   "cell_type": "markdown",
   "metadata": {},
   "source": [
    "# An exploration of internal ribosome entry sites (IRES) in single-stranded RNA (ssRNA) viruses"
   ]
  },
  {
   "cell_type": "markdown",
   "metadata": {},
   "source": [
    "### Sarah Johnson and Nicholas Forino - BIOL 419"
   ]
  },
  {
   "cell_type": "markdown",
   "metadata": {},
   "source": [
    "Our investigations will focus on understanding how IRESs are distributed across virus families, identifying which virus genomes are the most IRES-rich, contain the most \"potent\" IRESs."
   ]
  },
  {
   "cell_type": "code",
   "execution_count": null,
   "metadata": {
    "collapsed": true
   },
   "outputs": [],
   "source": [
    "# preliminaries\n",
    "import numpy as np\n",
    "import pandas as pd\n",
    "import matplotlib.pyplot as plt\n",
    "\n",
    "% matplotlib inline"
   ]
  },
  {
   "cell_type": "code",
   "execution_count": null,
   "metadata": {
    "collapsed": false
   },
   "outputs": [],
   "source": [
    "# loading the data\n",
    "\n",
    "# this is the table that contains IRES activity for the ssRNA coding sequences (CDS) by oligo index\n",
    "data = pd.read_excel('aad4939_Table_S8.xlsx', skip_footer = 277, skiprows = np.arange(1, 378), header = 0)\n",
    "\n",
    "print('Our data has shape:', data.shape)\n",
    "data"
   ]
  },
  {
   "cell_type": "code",
   "execution_count": null,
   "metadata": {
    "collapsed": false
   },
   "outputs": [],
   "source": [
    "############ start of sarah's work ##############\n",
    "\n",
    "# test with one virus \n",
    "swine = data[data['Accession '].str.contains('NC_018668')]\n",
    "plt.plot(swine.loc[:, 'Oligo_start_position'], swine.loc[:, 'eGFP_expression (a.u)'])\n"
   ]
  },
  {
   "cell_type": "code",
   "execution_count": null,
   "metadata": {
    "collapsed": false
   },
   "outputs": [],
   "source": [
    "# test with one virus\n",
    "swine_position = np.zeros(swine.shape[0])\n",
    "swine.shape[0]\n",
    "swine_array = swine.values\n",
    "for j in np.arange(swine.shape[0]):\n",
    "   swine_position[j] = swine_array[j, 6]/swine_array[-1, 6]\n",
    "swine_position\n",
    "plt.plot(swine_position, swine.loc[:, 'eGFP_expression (a.u)'])\n"
   ]
  },
  {
   "cell_type": "code",
   "execution_count": null,
   "metadata": {
    "collapsed": false
   },
   "outputs": [],
   "source": [
    "# plot expression levels across the total length of the genome\n",
    "viruses = np.unique(data.ix[:, 1])\n",
    "\n",
    "for i in viruses:\n",
    "    expression = data[data['Accession '].str.contains(i)]\n",
    "        \n",
    "    plt.plot(expression.loc[:, 'Oligo_start_position'], expression.loc[:, 'eGFP_expression (a.u)'])\n",
    "    plt.title('GFP expression over absolute genome')\n",
    "    plt.ylabel('GFP expression')\n",
    "    plt.xlabel('gene length in base pairs')"
   ]
  },
  {
   "cell_type": "code",
   "execution_count": null,
   "metadata": {
    "collapsed": false
   },
   "outputs": [],
   "source": [
    "# plot relative expression levels across the length of the genome\n",
    "\n",
    "for i in viruses:\n",
    "    expression = data[data['Accession '].str.contains(i)]\n",
    "    \n",
    "    position = np.zeros(expression.shape[0])\n",
    "    expression_array = expression.values\n",
    "    \n",
    "    for j in np.arange(expression.shape[0]):\n",
    "        position[j] = expression_array[j, 6]/expression_array[-1, 6]\n",
    "        \n",
    "    plt.plot(position, expression.loc[:, 'eGFP_expression (a.u)'])\n",
    "    plt.title('GFP expression over relative genome length')\n",
    "    plt.ylabel('GFP expression')\n",
    "    plt.xlabel('relative gene length (sequence position/total gene length)')\n"
   ]
  },
  {
   "cell_type": "markdown",
   "metadata": {},
   "source": [
    "data_acc_index = pd.read_excel('aad4939_Table_S8.xlsx', skip_footer = 277, \n",
    "                               skiprows = np.arange(1, 378), header = 0, index_col = 1)\n",
    "data_acc_index\n",
    "\n",
    "data_acc_index.ix['NC_001430']"
   ]
  },
  {
   "cell_type": "code",
   "execution_count": null,
   "metadata": {
    "collapsed": false
   },
   "outputs": [],
   "source": [
    "########### end of sarah's work ##############"
   ]
  },
  {
   "cell_type": "code",
   "execution_count": null,
   "metadata": {
    "collapsed": false
   },
   "outputs": [],
   "source": [
    "# create an array of the virus class for each accession number\n",
    "\n",
    "virus_class = np.zeros(viruses.size)\n",
    "for index in range(viruses.size): \n",
    "    expression = data[data['Accession '].str.contains(viruses[index])]\n",
    "    if 'Picorna' in expression.iloc[0]['Virus_class']:\n",
    "        virus_class[index] = 1\n",
    "    elif 'Flavi' in expression.iloc[0]['Virus_class']:\n",
    "        virus_class[index] = 2\n",
    "virus_class\n",
    "\n",
    "## 1 = picornavirus, 2 = flavivirus"
   ]
  },
  {
   "cell_type": "code",
   "execution_count": null,
   "metadata": {
    "collapsed": false
   },
   "outputs": [],
   "source": [
    "## find maximum expression for each IRES\n",
    "\n",
    "max_expression = np.zeros(viruses.size)\n",
    "max_expression_location = np.zeros(viruses.size)\n",
    "for index in range(viruses.size):\n",
    "    expression = data[data['Accession '].str.contains(viruses[index])]\n",
    "\n",
    "    max_expression[index] = np.max(expression['eGFP_expression (a.u)'])\n",
    "max_expression"
   ]
  },
  {
   "cell_type": "code",
   "execution_count": null,
   "metadata": {
    "collapsed": false
   },
   "outputs": [],
   "source": [
    "# unsuccesful attempt to find index/relative genome location of max expression\n",
    "\n",
    "max_expression = np.zeros(viruses.size)\n",
    "max_expression_location = np.zeros(viruses.size)\n",
    "for index in range(viruses.size):\n",
    "    expression = data[data['Accession '].str.contains(viruses[index])]\n",
    "      \n",
    "    expression_array = expression.values\n",
    "    for np.max(expression_array[:, 7]) in expression_array[:, 7]:\n",
    "        \n",
    "        max_expression_location[index] = np.max(expression_array[:, 7])\n",
    "max_expression"
   ]
  },
  {
   "cell_type": "code",
   "execution_count": null,
   "metadata": {
    "collapsed": true
   },
   "outputs": [],
   "source": []
  }
 ],
 "metadata": {
  "anaconda-cloud": {},
  "kernelspec": {
   "display_name": "Python [default]",
   "language": "python",
   "name": "python3"
  },
  "language_info": {
   "codemirror_mode": {
    "name": "ipython",
    "version": 3
   },
   "file_extension": ".py",
   "mimetype": "text/x-python",
   "name": "python",
   "nbconvert_exporter": "python",
   "pygments_lexer": "ipython3",
   "version": "3.5.2"
  }
 },
 "nbformat": 4,
 "nbformat_minor": 1
}
